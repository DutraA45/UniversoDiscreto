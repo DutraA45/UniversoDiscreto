{
 "cells": [
  {
   "cell_type": "code",
   "execution_count": 2,
   "metadata": {},
   "outputs": [],
   "source": [
    "%matplotlib inline\n",
    "import preprocessing as pre\n",
    "import regressionlinear as rl\n",
    "import regressionpoly as rp\n",
    "import regressiondecisiontree as dt\n",
    "import regressionrandomforest as rf\n",
    "\n",
    "import numpy as np\n",
    "import pandas as pd\n",
    "import time\n",
    "from functools import wraps"
   ]
  },
  {
   "cell_type": "code",
   "execution_count": 3,
   "metadata": {},
   "outputs": [],
   "source": [
    "#https://scikit-learn.org/stable/modules/model_evaluation.html#regression-metrics"
   ]
  },
  {
   "cell_type": "code",
   "execution_count": 6,
   "metadata": {},
   "outputs": [],
   "source": [
    "def evaluateAllRegressionModels(filename):\n",
    "    scoreLinearRegression = rl.runLinearRegressionExample(filename)\n",
    "    scorePoly2Regression = rp.runPolynomialLinearRegressionExample(filename, 2)\n",
    "    scorePoly3Regression = rp.runPolynomialLinearRegressionExample(filename, 3)\n",
    "    scorePoly4Regression = rp.runPolynomialLinearRegressionExample(filename, 4)\n",
    "    scoreDTRegression = dt.runDecisionTreeRegressionExample(filename)\n",
    "    scoreRF10Regression = rf.runRandomForestRegressionExample(filename, 10)\n",
    "    scoreRF25Regression = rf.runRandomForestRegressionExample(filename, 25)\n",
    "    scoreRF50Regression = rf.runRandomForestRegressionExample(filename, 50)\n",
    "    scoreRF75Regression = rf.runRandomForestRegressionExample(filename, 75)\n",
    "    scoreRF100Regression = rf.runRandomForestRegressionExample(filename, 100)\n",
    "    scoreRF200Regression = rf.runRandomForestRegressionExample(filename, 200)\n",
    "    scoreRF300Regression = rf.runRandomForestRegressionExample(filename, 300)\n",
    "    scoreRF500Regression = rf.runRandomForestRegressionExample(filename, 500)\n",
    "    \n",
    "    print(\"Linear Regression: \",scoreLinearRegression)\n",
    "    print(\"Poly Regression 2: \", scorePoly2Regression)\n",
    "    print(\"Poly Regression 3: \", scorePoly3Regression)\n",
    "    print(\"Poly Regression 4: \", scorePoly4Regression)\n",
    "    print(\"DT Regression: \", scoreDTRegression)\n",
    "    print(\"RF Regression 10: \", scoreRF10Regression)\n",
    "    print(\"RF Regression 25: \", scoreRF25Regression)\n",
    "    print(\"RF Regression 50: \", scoreRF50Regression)\n",
    "    print(\"RF Regression 75: \", scoreRF75Regression)\n",
    "    print(\"RF Regression 100: \", scoreRF100Regression)\n",
    "    print(\"RF Regression 200: \", scoreRF200Regression)\n",
    "    print(\"RF Regression 300: \", scoreRF300Regression)\n",
    "    print(\"RF Regression 500: \", scoreRF500Regression)"
   ]
  },
  {
   "cell_type": "code",
   "execution_count": 7,
   "metadata": {},
   "outputs": [
    {
     "name": "stdout",
     "output_type": "stream",
     "text": [
      "Compute Linear Regression: 0.00 segundos.\n",
      "Compute Polynomial Linear Regression: 0.00 segundos.\n",
      "Compute Polynomial Linear Regression: 0.00 segundos.\n",
      "Compute Polynomial Linear Regression: 0.00 segundos.\n",
      "Compute Decision Tree Regression: 0.00 segundos.\n",
      "Compute Random Forest Regression: 0.06 segundos.\n",
      "Compute Random Forest Regression: 0.10 segundos.\n",
      "Compute Random Forest Regression: 0.14 segundos.\n",
      "Compute Random Forest Regression: 0.17 segundos.\n",
      "Compute Random Forest Regression: 0.26 segundos.\n",
      "Compute Random Forest Regression: 0.52 segundos.\n",
      "Compute Random Forest Regression: 0.64 segundos.\n",
      "Compute Random Forest Regression: 1.42 segundos.\n",
      "Linear Regression:  0.6690412331929895\n",
      "Poly Regression 2:  0.9162082221443942\n",
      "Poly Regression 3:  0.9812097727913366\n",
      "Poly Regression 4:  0.9973922891706611\n",
      "DT Regression:  1.0\n",
      "RF Regression 10:  0.8327123282576422\n",
      "RF Regression 25:  0.9860341609612923\n",
      "RF Regression 50:  0.9642671261959591\n",
      "RF Regression 75:  0.9402039216334503\n",
      "RF Regression 100:  0.943226561991514\n",
      "RF Regression 200:  0.9537361459356762\n",
      "RF Regression 300:  0.94678759856342\n",
      "RF Regression 500:  0.9511218112561948\n"
     ]
    }
   ],
   "source": [
    "evaluateAllRegressionModels(\"salary2.csv\")"
   ]
  },
  {
   "cell_type": "code",
   "execution_count": null,
   "metadata": {},
   "outputs": [],
   "source": []
  }
 ],
 "metadata": {
  "kernelspec": {
   "display_name": "Python 3",
   "language": "python",
   "name": "python3"
  },
  "language_info": {
   "codemirror_mode": {
    "name": "ipython",
    "version": 3
   },
   "file_extension": ".py",
   "mimetype": "text/x-python",
   "name": "python",
   "nbconvert_exporter": "python",
   "pygments_lexer": "ipython3",
   "version": "3.5.4rc1"
  }
 },
 "nbformat": 4,
 "nbformat_minor": 2
}
