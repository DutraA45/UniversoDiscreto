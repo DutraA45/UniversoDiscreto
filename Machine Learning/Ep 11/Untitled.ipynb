{
 "cells": [
  {
   "cell_type": "code",
   "execution_count": 1,
   "metadata": {},
   "outputs": [],
   "source": [
    "%matplotlib inline\n",
    "import preprocessing as pre\n",
    "import regressionlinear as rl\n",
    "import regressionpoly as rp\n",
    "import regressiondecisiontree as dt\n",
    "import regressionrandomforest as rf\n",
    "\n",
    "import numpy as np\n",
    "import pandas as pd\n",
    "import time\n",
    "from functools import wraps"
   ]
  },
  {
   "cell_type": "code",
   "execution_count": 2,
   "metadata": {},
   "outputs": [],
   "source": [
    "#https://scikit-learn.org/stable/modules/model_evaluation.html#regression-metrics"
   ]
  },
  {
   "cell_type": "code",
   "execution_count": 9,
   "metadata": {},
   "outputs": [],
   "source": [
    "def evaluateAllRegressionModels(filename):\n",
    "    scoreLinearRegression = rl.runLinearRegressionExample(\"salary.csv\")\n",
    "    scorePoly2Regression = rp.runPolynomialLinearRegressionExample(\"salary.csv\", 2)\n",
    "    scorePoly3Regression = rp.runPolynomialLinearRegressionExample(\"salary.csv\", 3)\n",
    "    scorePoly4Regression = rp.runPolynomialLinearRegressionExample(\"salary.csv\", 4)\n",
    "    scoreDTRegression = dt.runDecisionTreeRegressionExample(\"salary.csv\")\n",
    "    scoreRF10Regression = rf.runRandomForestRegressionExample(\"salary.csv\", 10)\n",
    "    scoreRF25Regression = rf.runRandomForestRegressionExample(\"salary.csv\", 25)\n",
    "    scoreRF50Regression = rf.runRandomForestRegressionExample(\"salary.csv\", 50)\n",
    "    scoreRF75Regression = rf.runRandomForestRegressionExample(\"salary.csv\", 75)\n",
    "    scoreRF100Regression = rf.runRandomForestRegressionExample(\"salary.csv\", 100)\n",
    "    scoreRF200Regression = rf.runRandomForestRegressionExample(\"salary.csv\", 200)\n",
    "    scoreRF300Regression = rf.runRandomForestRegressionExample(\"salary.csv\", 300)\n",
    "    scoreRF500Regression = rf.runRandomForestRegressionExample(\"salary.csv\", 500)\n",
    "    \n",
    "    print(\"Linear Regression: \",scoreLinearRegression)\n",
    "    print(\"Poly Regression 2: \", scorePoly2Regression)\n",
    "    print(\"Poly Regression 3: \", scorePoly3Regression)\n",
    "    print(\"Poly Regression 4: \", scorePoly4Regression)\n",
    "    print(\"DT Regression: \", scoreDTRegression)\n",
    "    print(\"RF Regression 10: \", scoreRF10Regression)\n",
    "    print(\"RF Regression 25: \", scoreRF25Regression)\n",
    "    print(\"RF Regression 50: \", scoreRF50Regression)\n",
    "    print(\"RF Regression 75: \", scoreRF75Regression)\n",
    "    print(\"RF Regression 100: \", scoreRF100Regression)\n",
    "    print(\"RF Regression 200: \", scoreRF200Regression)\n",
    "    print(\"RF Regression 300: \", scoreRF300Regression)\n",
    "    print(\"RF Regression 500: \", scoreRF500Regression)"
   ]
  },
  {
   "cell_type": "code",
   "execution_count": 10,
   "metadata": {},
   "outputs": [
    {
     "name": "stdout",
     "output_type": "stream",
     "text": [
      "Compute Linear Regression: 0.00 segundos.\n",
      "Compute Polynomial Linear Regression: 0.00 segundos.\n",
      "Compute Polynomial Linear Regression: 0.01 segundos.\n",
      "Compute Polynomial Linear Regression: 0.01 segundos.\n",
      "Compute Decision Tree Regression: 0.00 segundos.\n",
      "Compute Random Forest Regression: 0.02 segundos.\n",
      "Compute Random Forest Regression: 0.06 segundos.\n",
      "Compute Random Forest Regression: 0.12 segundos.\n",
      "Compute Random Forest Regression: 0.19 segundos.\n",
      "Compute Random Forest Regression: 0.22 segundos.\n",
      "Compute Random Forest Regression: 0.46 segundos.\n",
      "Compute Random Forest Regression: 0.58 segundos.\n",
      "Compute Random Forest Regression: 0.91 segundos.\n",
      "Linear Regression:  0.9569566641435086\n",
      "Poly Regression 2:  0.956975168321065\n",
      "Poly Regression 3:  0.9635969766249464\n",
      "Poly Regression 4:  0.9636560599375091\n",
      "DT Regression:  0.9976748641432848\n",
      "RF Regression 10:  0.9897916510994208\n",
      "RF Regression 25:  0.990676898811741\n",
      "RF Regression 50:  0.9914964387492905\n",
      "RF Regression 75:  0.9904740437885988\n",
      "RF Regression 100:  0.9914914207349187\n",
      "RF Regression 200:  0.9914897869729699\n",
      "RF Regression 300:  0.9917812082146044\n",
      "RF Regression 500:  0.9915024907847797\n"
     ]
    }
   ],
   "source": [
    "evaluateAllRegressionModels(\"salary.csv\")"
   ]
  },
  {
   "cell_type": "code",
   "execution_count": null,
   "metadata": {},
   "outputs": [],
   "source": []
  }
 ],
 "metadata": {
  "kernelspec": {
   "display_name": "Python 3",
   "language": "python",
   "name": "python3"
  },
  "language_info": {
   "codemirror_mode": {
    "name": "ipython",
    "version": 3
   },
   "file_extension": ".py",
   "mimetype": "text/x-python",
   "name": "python",
   "nbconvert_exporter": "python",
   "pygments_lexer": "ipython3",
   "version": "3.5.4rc1"
  }
 },
 "nbformat": 4,
 "nbformat_minor": 2
}
