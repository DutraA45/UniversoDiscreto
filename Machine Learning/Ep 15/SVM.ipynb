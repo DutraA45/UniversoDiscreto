{
 "cells": [
  {
   "cell_type": "code",
   "execution_count": 1,
   "metadata": {},
   "outputs": [],
   "source": [
    "%matplotlib inline\n",
    "from logisticregression import LogisticRegression\n",
    "from knn import KNN\n",
    "from svm import SVM\n",
    "\n",
    "import numpy as np\n",
    "import pandas as pd\n",
    "from tqdm import tqdm"
   ]
  },
  {
   "cell_type": "code",
   "execution_count": 2,
   "metadata": {},
   "outputs": [],
   "source": [
    "def getAccuracy(confusionMatrix):\n",
    "    accuracy = (confusionMatrix[0][0] + confusionMatrix[1][1]) / (confusionMatrix[0][0] + confusionMatrix[1][0] + confusionMatrix[0][1] + confusionMatrix[1][1])\n",
    "    return accuracy * 100"
   ]
  },
  {
   "cell_type": "code",
   "execution_count": 3,
   "metadata": {},
   "outputs": [
    {
     "name": "stderr",
     "output_type": "stream",
     "text": [
      "100%|███████████████████████████████████████████████████████| 20/20 [00:00<00:00, 21.97it/s]\n"
     ]
    },
    {
     "name": "stdout",
     "output_type": "stream",
     "text": [
      "Média da Regressão Logística: 79.66\n",
      "Desvio Padrão da Regressão Logística: 2.89\n"
     ]
    },
    {
     "name": "stderr",
     "output_type": "stream",
     "text": [
      "100%|███████████████████████████████████████████████████████| 20/20 [00:00<00:00, 42.06it/s]\n"
     ]
    },
    {
     "name": "stdout",
     "output_type": "stream",
     "text": [
      "\n",
      "Média do KNN: 79.59\n",
      "Desvio Padrão do KNN: 3.87\n"
     ]
    },
    {
     "name": "stderr",
     "output_type": "stream",
     "text": [
      "100%|███████████████████████████████████████████████████████| 20/20 [00:00<00:00, 39.72it/s]\n"
     ]
    },
    {
     "name": "stdout",
     "output_type": "stream",
     "text": [
      "\n",
      "Média do SVM Linear: 79.51\n",
      "Desvio Padrão do SVM Linear: 3.92\n"
     ]
    },
    {
     "name": "stderr",
     "output_type": "stream",
     "text": [
      "100%|███████████████████████████████████████████████████████| 20/20 [00:00<00:00, 34.29it/s]\n"
     ]
    },
    {
     "name": "stdout",
     "output_type": "stream",
     "text": [
      "\n",
      "Média do SVM Poly 3: 80.04\n",
      "Desvio Padrão do SVM Poly 3: 2.75\n"
     ]
    },
    {
     "name": "stderr",
     "output_type": "stream",
     "text": [
      "100%|███████████████████████████████████████████████████████| 20/20 [00:00<00:00, 31.16it/s]\n"
     ]
    },
    {
     "name": "stdout",
     "output_type": "stream",
     "text": [
      "\n",
      "Média do SVM Poly 4: 76.90\n",
      "Desvio Padrão do SVM Poly 4: 2.80\n"
     ]
    },
    {
     "name": "stderr",
     "output_type": "stream",
     "text": [
      "100%|███████████████████████████████████████████████████████| 20/20 [00:00<00:00, 31.41it/s]\n"
     ]
    },
    {
     "name": "stdout",
     "output_type": "stream",
     "text": [
      "\n",
      "Média do SVM Gaussiano: 83.17\n",
      "Desvio Padrão do SVM Gaussiano: 3.21\n"
     ]
    },
    {
     "data": {
      "image/png": "[encoded data removed]",
      "text/plain": [
       "<Figure size 432x288 with 1 Axes>"
      ]
     },
     "metadata": {
      "needs_background": "light"
     },
     "output_type": "display_data"
    }
   ],
   "source": [
    "rlArray = []\n",
    "for i in tqdm(range(0, 20)):\n",
    "    cmLR = LogisticRegression.computeExample(\"titanic.csv\")\n",
    "    rlArray.append(getAccuracy(cmLR))\n",
    "print(\"Média da Regressão Logística: %.2f\" % np.mean(rlArray))\n",
    "print(\"Desvio Padrão da Regressão Logística: %.2f\" % np.std(rlArray))\n",
    "\n",
    "knnArray = []\n",
    "for i in tqdm(range(0, 20)):\n",
    "    cmKnn = KNN.computeExample(\"titanic.csv\")\n",
    "    knnArray.append(getAccuracy(cmKnn))\n",
    "print(\"\\nMédia do KNN: %.2f\" % np.mean(knnArray))\n",
    "print(\"Desvio Padrão do KNN: %.2f\" % np.std(knnArray))\n",
    "\n",
    "svmLinearArray = []\n",
    "for i in tqdm(range(0, 20)):\n",
    "    cmSVML = SVM.computeExample(\"titanic.csv\", \"linear\", 0)\n",
    "    svmLinearArray.append(getAccuracy(cmSVML))\n",
    "print(\"\\nMédia do SVM Linear: %.2f\" % np.mean(svmLinearArray))\n",
    "print(\"Desvio Padrão do SVM Linear: %.2f\" % np.std(svmLinearArray))\n",
    "\n",
    "svmPoly3Array = []\n",
    "for i in tqdm(range(0, 20)):\n",
    "    cmSVMP3 = SVM.computeExample(\"titanic.csv\", \"poly\", 3)\n",
    "    svmPoly3Array.append(getAccuracy(cmSVMP3))\n",
    "print(\"\\nMédia do SVM Poly 3: %.2f\" % np.mean(svmPoly3Array))\n",
    "print(\"Desvio Padrão do SVM Poly 3: %.2f\" % np.std(svmPoly3Array))\n",
    "\n",
    "svmPoly4Array = []\n",
    "for i in tqdm(range(0, 20)):\n",
    "    cmSVMP4 = SVM.computeExample(\"titanic.csv\", \"poly\", 4)\n",
    "    svmPoly4Array.append(getAccuracy(cmSVMP4))\n",
    "print(\"\\nMédia do SVM Poly 4: %.2f\" % np.mean(svmPoly4Array))\n",
    "print(\"Desvio Padrão do SVM Poly 4: %.2f\" % np.std(svmPoly4Array))\n",
    "\n",
    "svmGaussArray = []\n",
    "for i in tqdm(range(0, 20)):\n",
    "    cmSVMG = SVM.computeExample(\"titanic.csv\", \"rbf\", 0)\n",
    "    svmGaussArray.append(getAccuracy(cmSVMG))\n",
    "print(\"\\nMédia do SVM Gaussiano: %.2f\" % np.mean(svmGaussArray))\n",
    "print(\"Desvio Padrão do SVM Gaussiano: %.2f\" % np.std(svmGaussArray))\n",
    "\n",
    "import matplotlib.pyplot as plt\n",
    "plt.plot(rlArray, 'r-', knnArray, 'g--', svmGaussArray, 'b^')\n",
    "plt.ylabel(\"Acurácia\")\n",
    "plt.xlabel(\"Tentativas\")\n",
    "plt.show()"
   ]
  },
  {
   "cell_type": "code",
   "execution_count": null,
   "metadata": {},
   "outputs": [],
   "source": []
  }
 ],
 "metadata": {
  "kernelspec": {
   "display_name": "Python 3",
   "language": "python",
   "name": "python3"
  },
  "language_info": {
   "codemirror_mode": {
    "name": "ipython",
    "version": 3
   },
   "file_extension": ".py",
   "mimetype": "text/x-python",
   "name": "python",
   "nbconvert_exporter": "python",
   "pygments_lexer": "ipython3",
   "version": "3.6.6"
  }
 },
 "nbformat": 4,
 "nbformat_minor": 2
}
